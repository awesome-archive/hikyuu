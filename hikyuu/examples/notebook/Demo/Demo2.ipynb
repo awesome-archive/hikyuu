{
 "cells": [
  {
   "cell_type": "code",
   "execution_count": 9,
   "metadata": {},
   "outputs": [
    {
     "name": "stdout",
     "output_type": "stream",
     "text": [
      "Wall time: 1.01 ms\n"
     ]
    }
   ],
   "source": [
    "%matplotlib inline\n",
    "%time from hikyuu.interactive.interactive import *\n",
    "use_draw_engine('matplotlib')\n",
    "#use_draw_engine('echarts')"
   ]
  },
  {
   "cell_type": "markdown",
   "metadata": {},
   "source": [
    "# 一、策略分析\n",
    "\n",
    "## 原始描述\n",
    "\n",
    "建仓条件：expma周线exp1跟exp2金叉向上使用使用 B=50% 的资金买入股票，建仓成功后，卖出条件才能起作用\n",
    "\n",
    "卖出条件S1：expma日线exp1和exp2死叉向下时卖出持仓股 S=50%\n",
    "\n",
    "买入条件B1：expma日线exp1和exp2金叉向上时买入股票数为S（卖出条件S1卖出股数）\n",
    "\n",
    "S1和B1就这样循环\n",
    "\n",
    "清仓条件为：expma周线exp1和exp2死叉时\n",
    "\n",
    "\n",
    "## 策略分析\n",
    "\n",
    "市场环境：无\n",
    "\n",
    "系统有效性：周线EMA1（快线）和EMA2（慢线）金叉向上直到两者死叉，系统有效时建立初始仓位\n",
    "\n",
    "信号指示器：\n",
    "- 买入：日线EMA1（快线）和EMA2（慢线）金叉向上\n",
    "- 卖出：日线EMA1（快线）和EMA2（慢线）死叉向下\n",
    "\n",
    "止损/止盈：无\n",
    "\n",
    "资金管理：\n",
    "- 初次建仓：使用50%的资金\n",
    "- 买入：初次建仓时持股数的50%\n",
    "- 卖出：初次建仓时持股数的50%\n",
    "\n",
    "盈利目标：无\n"
   ]
  },
  {
   "cell_type": "markdown",
   "metadata": {},
   "source": [
    "# 二、实现系统部件\n",
    "\n",
    "## 自定义系统有效性策略"
   ]
  },
  {
   "cell_type": "code",
   "execution_count": 10,
   "metadata": {},
   "outputs": [],
   "source": [
    "def getNextWeekDateList(week):\n",
    "    from datetime import timedelta\n",
    "    py_week = week.datetime()\n",
    "    next_week_start = py_week + timedelta(days = 7 - py_week.weekday())\n",
    "    next_week_end = next_week_start + timedelta(days=5)\n",
    "    return getDateRange(Datetime(next_week_start), Datetime(next_week_end))\n",
    "#ds = getNextWeekDateList(Datetime(201801010000))\n",
    "#for d in ds:\n",
    "#    print(d)"
   ]
  },
  {
   "cell_type": "code",
   "execution_count": 11,
   "metadata": {},
   "outputs": [],
   "source": [
    "def DEMO_CN(self):\n",
    "    \"\"\" DIF > DEA 时，系统有效\n",
    "    参数：\n",
    "    fast_n：周线dif窗口\n",
    "    slow_n: 周线dea窗口\n",
    "    \"\"\"\n",
    "    k = self.getTO()\n",
    "    if (len(k) <= 10):\n",
    "        return\n",
    "    \n",
    "    #-----------------------------\n",
    "    # 周线        \n",
    "    #-----------------------------\n",
    "    week_q = QueryByDate(k[0].datetime, k[-1].datetime, kType=Query.WEEK)\n",
    "    week_k = k.getStock().getKData(week_q)\n",
    "    \n",
    "    n1 = self.getParam(\"week_macd_n1\")\n",
    "    n2 = self.getParam(\"week_macd_n2\")\n",
    "    n3 = self.getParam(\"week_macd_n3\")\n",
    "    m = MACD(CLOSE(week_k), n1, n2, n3)\n",
    "    fast = m.getResult(0)\n",
    "    slow = m.getResult(1)\n",
    "\n",
    "    x = fast > slow\n",
    "    for i in range(x.discard, len(x)-1):\n",
    "        if (x[i] >= 1.0):\n",
    "            #需要被扩展到日线（必须是后一周）\n",
    "            date_list = getNextWeekDateList(week_k[i].datetime)\n",
    "            for d in date_list:\n",
    "                self._addValid(d)"
   ]
  },
  {
   "cell_type": "markdown",
   "metadata": {},
   "source": [
    "## 自定义信号指示器"
   ]
  },
  {
   "cell_type": "code",
   "execution_count": 12,
   "metadata": {},
   "outputs": [],
   "source": [
    "#这个例子不需要，已经有内建的SG_Cross函数可直接使用"
   ]
  },
  {
   "cell_type": "markdown",
   "metadata": {},
   "source": [
    "## 自定义资金管理策略"
   ]
  },
  {
   "cell_type": "code",
   "execution_count": 13,
   "metadata": {},
   "outputs": [],
   "source": [
    "class DEMO_MM(MoneyManagerBase):\n",
    "    \"\"\"\n",
    "    初次建仓：使用50%的资金\n",
    "    买入：初次建仓时持股数的50%\n",
    "    卖出：初次建仓时持股数的50%\n",
    "    \"\"\"\n",
    "    def __init__(self):\n",
    "        super(DEMO_MM, self).__init__(\"MACD_MM\")\n",
    "        self.setParam(\"init_position\", 0.5) #自定义初始仓位参数，占用资金百分比\n",
    "        self.next_buy_num = 0\n",
    "        \n",
    "    def _reset(self):\n",
    "        self.next_buy_num = 0\n",
    "        #pass\n",
    "        \n",
    "    def _clone(self):\n",
    "        mm = DEMO_MM()\n",
    "        mm.next_buy_num = self.next_buy_num\n",
    "        #return DEMO_MM()\n",
    "    \n",
    "    def _getBuyNumber(self, datetime, stk, price, risk, part_from):\n",
    "        tm = self.getTM()\n",
    "        cash = tm.currentCash\n",
    "        \n",
    "        #如果信号来源于系统有效条件，建立初始仓位\n",
    "        if part_from == System.Part.CONDITION:\n",
    "            #return int((cash * 0.5 // price // stk.atom) * stk.atom)  #MoneyManagerBase其实已经保证了买入是最小交易数的整数\n",
    "            self.next_buy_num = 0 #清理掉上一周期建仓期间滚动买卖的股票数\n",
    "            return int(cash * self.getParam(\"init_position\") // price)\n",
    "        \n",
    "        #非初次建仓，买入同等数量\n",
    "        return self.next_buy_num\n",
    "    \n",
    "    def _getSellNumber(self, datetime, stk, price, risk, part_from):\n",
    "        tm = self.getTM()\n",
    "        position = tm.getPosition(stk)\n",
    "        current_num = int(position.number * 0.5)\n",
    "        \n",
    "        #记录第一次卖出时的股票数，以便下次以同等数量买入\n",
    "        if self.next_buy_num == 0:\n",
    "            self.next_buy_num = current_num \n",
    "            \n",
    "        return current_num #返回类型必须是整数"
   ]
  },
  {
   "cell_type": "markdown",
   "metadata": {},
   "source": [
    "# 三、构建并运行系统\n",
    "\n",
    "## 修改设定公共参数\n",
    "\n",
    "每个系统部件以及TradeManager都有自己的公共参数会影响系统运行，具体可以查看帮助及试验。\n",
    "\n",
    "比如：这个例子当前使用系统有效条件进行初始建仓，那么必须设置系统公共参数cn_open_position为True。否则，没有建立初始仓位的话，后续没有卖出，不会有任何交易。"
   ]
  },
  {
   "cell_type": "code",
   "execution_count": 14,
   "metadata": {},
   "outputs": [],
   "source": [
    "#System参数\n",
    "#delay=True #(bool) : 是否延迟到下一个bar开盘时进行交易\n",
    "#delay_use_current_price=True #(bool) : 延迟操作的情况下，是使用当前交易时bar的价格计算新的止损价/止赢价/目标价还是使用上次计算的结果\n",
    "#max_delay_count=3 #(int) : 连续延迟交易请求的限制次数\n",
    "#tp_monotonic=True #(bool) : 止赢单调递增\n",
    "#tp_delay_n=3 #(int) : 止盈延迟开始的天数，即止盈策略判断从实际交易几天后开始生效\n",
    "#ignore_sell_sg=False #(bool) : 忽略卖出信号，只使用止损/止赢等其他方式卖出\n",
    "#ev_open_position=False #(bool): 是否使用市场环境判定进行初始建仓\n",
    "\n",
    "cn_open_position=True #(bool): 是否使用系统有效性条件进行初始建仓\n",
    "\n",
    "#MoneyManager公共参数\n",
    "#auto-checkin=False #(bool) : 当账户现金不足以买入资金管理策略指示的买入数量时，自动向账户中补充存入（checkin）足够的现金。\n",
    "#max-stock=20000 #(int) : 最大持有的证券种类数量（即持有几只股票，而非各个股票的持仓数）\n",
    "#disable_ev_force_clean_position=False #(bool) : 禁用市场环境失效时强制清仓\n",
    "#disable_cn_force_clean_position=False #(bool) : 禁用系统有效条件失效时强制清仓\n"
   ]
  },
  {
   "cell_type": "markdown",
   "metadata": {},
   "source": [
    "## 设定私有参数及待测试标的"
   ]
  },
  {
   "cell_type": "code",
   "execution_count": 15,
   "metadata": {},
   "outputs": [],
   "source": [
    "#账户参数\n",
    "init_cash = 500000 #账户初始资金\n",
    "init_date = '1990-1-1' #账户建立日期\n",
    "\n",
    "#信号指示器参数\n",
    "week_n1 = 12\n",
    "week_n2 = 26\n",
    "week_n3 = 9\n",
    "\n",
    "#选定标的，及测试区间\n",
    "stk = sm['sz000002']\n",
    "\n",
    "#如果是同一级别K线，可以使用索引号，使用了不同级别的K线数据，建议还是使用日期作为参数\n",
    "#另外，数据量太大的话，matplotlib绘图会比较慢\n",
    "start_date = Datetime('2016-01-01')  \n",
    "end_date = Datetime()"
   ]
  },
  {
   "cell_type": "markdown",
   "metadata": {
    "collapsed": true
   },
   "source": [
    "## 构建系统实例"
   ]
  },
  {
   "cell_type": "code",
   "execution_count": 16,
   "metadata": {},
   "outputs": [],
   "source": [
    "#创建模拟交易账户进行回测，初始资金30万\n",
    "my_tm = crtTM(datetime=Datetime(init_date), initCash = init_cash)\n",
    "\n",
    "#创建系统实例\n",
    "my_sys = SYS_Simple()\n",
    "\n",
    "my_sys.setParam(\"cn_open_position\", cn_open_position)\n",
    "\n",
    "my_sys.tm = my_tm\n",
    "my_sys.cn = crtCN(DEMO_CN, \n",
    "              {'week_macd_n1': week_n1, 'week_macd_n2': week_n2, 'week_macd_n3': week_n3}, \n",
    "                'DEMO_CN')  \n",
    "my_sys.sg = SG_Cross(EMA(n=week_n1), EMA(n=week_n2))\n",
    "my_sys.mm = DEMO_MM()"
   ]
  },
  {
   "cell_type": "markdown",
   "metadata": {},
   "source": [
    "## 运行系统"
   ]
  },
  {
   "cell_type": "code",
   "execution_count": 17,
   "metadata": {},
   "outputs": [],
   "source": [
    "q = QueryByDate(start_date, end_date, kType=Query.DAY)\n",
    "my_sys.run(stk, q)\n",
    "\n",
    "#将交易记录及持仓情况，保存在临时目录，可用Excel查看\n",
    "#临时目录一般设置在数据所在目录下的 tmp 子目录\n",
    "#如果打开了excel记录，再次运行系统前，记得先关闭excel文件，否则新的结果没法保存\n",
    "my_tm.tocsv(sm.tmpdir())"
   ]
  },
  {
   "cell_type": "markdown",
   "metadata": {},
   "source": [
    "# 四、查看资金曲线及绩效统计"
   ]
  },
  {
   "cell_type": "code",
   "execution_count": 18,
   "metadata": {},
   "outputs": [
    {
     "data": {
      "image/png": "[encoded data removed]",
      "text/plain": [
       "<Figure size 720x576 with 1 Axes>"
      ]
     },
     "metadata": {
      "needs_background": "light"
     },
     "output_type": "display_data"
    }
   ],
   "source": [
    "#绘制资金收益曲线\n",
    "x = my_tm.getProfitCurve(stk.getDatetimeList(q), KQuery.DAY)\n",
    "#x = my_tm.getFundsCurve(stk.getDatetimeList(q), KQuery.DAY) #资金净值曲线\n",
    "PRICELIST(x).plot()"
   ]
  },
  {
   "cell_type": "code",
   "execution_count": 19,
   "metadata": {},
   "outputs": [
    {
     "name": "stdout",
     "output_type": "stream",
     "text": [
      "帐户初始金额: 500000.00\n",
      "累计投入本金: 500000.00\n",
      "累计投入资产: 0.00\n",
      "累计借入现金: 0.00\n",
      "累计借入资产: 0.00\n",
      "累计红利: 0.00\n",
      "现金余额: 722279.50\n",
      "未平仓头寸净值: 0.00\n",
      "当前总资产: 722279.50\n",
      "已平仓交易总成本: 0.00\n",
      "已平仓净利润总额: 222279.50\n",
      "单笔交易最大占用现金比例%: 49.94\n",
      "交易平均占用现金比例%: 43.77\n",
      "已平仓帐户收益率%: 44.46\n",
      "帐户年复合收益率%: 14.67\n",
      "帐户平均年收益率%: 16.54\n",
      "赢利交易赢利总额: 296681.50\n",
      "亏损交易亏损总额: -74402.00\n",
      "已平仓交易总数: 5.00\n",
      "赢利交易数: 4.00\n",
      "亏损交易数: 1.00\n",
      "赢利交易比例%: 80.00\n",
      "赢利期望值: 44455.90\n",
      "赢利交易平均赢利: 74170.38\n",
      "亏损交易平均亏损: -74402.00\n",
      "平均赢利/平均亏损比例: 1.00\n",
      "净赢利/亏损比例: 3.99\n",
      "最大单笔赢利: 130416.00\n",
      "最大单笔亏损: -74402.00\n",
      "赢利交易平均持仓时间: 75.50\n",
      "赢利交易最大持仓时间: 141.00\n",
      "亏损交易平均持仓时间: 119.00\n",
      "亏损交易最大持仓时间: 119.00\n",
      "空仓总时间: 561.00\n",
      "空仓时间/总时间%: 57.00\n",
      "平均空仓时间: 112.00\n",
      "最长空仓时间: 327.00\n",
      "最大连续赢利笔数: 2.00\n",
      "最大连续亏损笔数: 1.00\n",
      "最大连续赢利金额: 192882.00\n",
      "最大连续亏损金额: -74402.00\n",
      "R乘数期望值: 0.15\n",
      "交易机会频率/年: 1.86\n",
      "年度期望R乘数: 0.28\n",
      "赢利交易平均R乘数: 0.22\n",
      "亏损交易平均R乘数: -0.15\n",
      "最大单笔赢利R乘数: 0.52\n",
      "最大单笔亏损R乘数: -0.15\n",
      "最大连续赢利R乘数: 0.33\n",
      "最大连续亏损R乘数: -0.15\n",
      "\n"
     ]
    }
   ],
   "source": [
    "#回测统计\n",
    "per = Performance()\n",
    "print(per.report(my_tm, Datetime.now()))"
   ]
  },
  {
   "cell_type": "markdown",
   "metadata": {},
   "source": [
    "# 五、或许想看下图形"
   ]
  },
  {
   "cell_type": "code",
   "execution_count": 20,
   "metadata": {},
   "outputs": [],
   "source": [
    "#自己写吧"
   ]
  },
  {
   "cell_type": "markdown",
   "metadata": {
    "collapsed": true
   },
   "source": [
    "# 六、或许想看看所有股票的情况"
   ]
  },
  {
   "cell_type": "code",
   "execution_count": 21,
   "metadata": {},
   "outputs": [
    {
     "name": "stdout",
     "output_type": "stream",
     "text": [
      "[2019-03-27 21:40:29.664] [info] KData is empty! [System::run]\n",
      "[2019-03-27 21:40:29.806] [info] KData is empty! [System::run]\n",
      "[2019-03-27 21:40:29.867] [info] KData is empty! [System::run]\n",
      "[2019-03-27 21:40:29.868] [info] KData is empty! [System::run]\n",
      "[2019-03-27 21:40:29.949] [info] KData is empty! [System::run]\n",
      "[2019-03-27 21:40:29.965] [info] KData is empty! [System::run]\n",
      "[2019-03-27 21:40:30.112] [info] KData is empty! [System::run]\n",
      "[2019-03-27 21:40:30.215] [info] KData is empty! [System::run]\n",
      "[2019-03-27 21:40:30.517] [info] KData is empty! [System::run]\n",
      "[2019-03-27 21:40:30.777] [info] KData is empty! [System::run]\n",
      "[2019-03-27 21:40:30.852] [info] KData is empty! [System::run]\n",
      "[2019-03-27 21:40:30.910] [info] KData is empty! [System::run]\n",
      "[2019-03-27 21:40:31.147] [info] KData is empty! [System::run]\n",
      "[2019-03-27 21:40:31.307] [info] KData is empty! [System::run]\n",
      "[2019-03-27 21:40:31.712] [info] KData is empty! [System::run]\n",
      "[2019-03-27 21:40:31.832] [info] KData is empty! [System::run]\n",
      "[2019-03-27 21:40:31.972] [info] KData is empty! [System::run]\n",
      "[2019-03-27 21:40:32.112] [info] KData is empty! [System::run]\n",
      "[2019-03-27 21:40:32.174] [info] KData is empty! [System::run]\n",
      "[2019-03-27 21:40:32.370] [info] KData is empty! [System::run]\n",
      "[2019-03-27 21:40:32.387] [info] KData is empty! [System::run]\n",
      "[2019-03-27 21:40:32.810] [info] KData is empty! [System::run]\n",
      "[2019-03-27 21:40:32.900] [info] KData is empty! [System::run]\n",
      "[2019-03-27 21:40:32.955] [info] KData is empty! [System::run]\n",
      "[2019-03-27 21:40:33.184] [info] KData is empty! [System::run]\n",
      "[2019-03-27 21:40:33.344] [info] KData is empty! [System::run]\n",
      "[2019-03-27 21:40:33.910] [info] KData is empty! [System::run]\n",
      "[2019-03-27 21:40:34.318] [info] KData is empty! [System::run]\n",
      "[2019-03-27 21:40:34.382] [info] KData is empty! [System::run]\n",
      "[2019-03-27 21:40:34.460] [info] KData is empty! [System::run]\n",
      "[2019-03-27 21:40:34.923] [info] KData is empty! [System::run]\n",
      "[2019-03-27 21:40:35.093] [info] KData is empty! [System::run]\n",
      "[2019-03-27 21:40:35.194] [info] KData is empty! [System::run]\n",
      "[2019-03-27 21:40:35.327] [info] KData is empty! [System::run]\n",
      "[2019-03-27 21:40:35.481] [info] KData is empty! [System::run]\n",
      "[2019-03-27 21:40:35.566] [info] KData is empty! [System::run]\n",
      "[2019-03-27 21:40:35.774] [info] KData is empty! [System::run]\n",
      "[2019-03-27 21:40:36.124] [info] KData is empty! [System::run]\n",
      "[2019-03-27 21:40:36.278] [info] KData is empty! [System::run]\n",
      "[2019-03-27 21:40:36.576] [info] KData is empty! [System::run]\n",
      "[2019-03-27 21:40:37.053] [info] KData is empty! [System::run]\n",
      "[2019-03-27 21:40:37.131] [info] KData is empty! [System::run]\n",
      "[2019-03-27 21:40:37.818] [info] KData is empty! [System::run]\n",
      "[2019-03-27 21:40:37.879] [info] KData is empty! [System::run]\n",
      "[2019-03-27 21:40:38.150] [info] KData is empty! [System::run]\n",
      "[2019-03-27 21:40:38.161] [info] KData is empty! [System::run]\n",
      "[2019-03-27 21:40:38.202] [info] KData is empty! [System::run]\n",
      "[2019-03-27 21:40:38.210] [info] KData is empty! [System::run]\n",
      "[2019-03-27 21:40:38.346] [info] KData is empty! [System::run]\n",
      "[2019-03-27 21:40:38.389] [info] KData is empty! [System::run]\n",
      "[2019-03-27 21:40:38.552] [info] KData is empty! [System::run]\n",
      "[2019-03-27 21:40:38.553] [info] KData is empty! [System::run]\n",
      "[2019-03-27 21:40:38.731] [info] KData is empty! [System::run]\n",
      "[2019-03-27 21:40:38.732] [info] KData is empty! [System::run]\n",
      "[2019-03-27 21:40:38.733] [info] KData is empty! [System::run]\n",
      "[2019-03-27 21:40:38.781] [info] KData is empty! [System::run]\n",
      "[2019-03-27 21:40:38.908] [info] KData is empty! [System::run]\n",
      "[2019-03-27 21:40:39.406] [info] KData is empty! [System::run]\n",
      "[2019-03-27 21:40:39.430] [info] KData is empty! [System::run]\n",
      "[2019-03-27 21:40:39.463] [info] KData is empty! [System::run]\n",
      "[2019-03-27 21:40:39.600] [info] KData is empty! [System::run]\n",
      "[2019-03-27 21:40:39.894] [info] KData is empty! [System::run]\n",
      "[2019-03-27 21:40:40.046] [info] KData is empty! [System::run]\n",
      "[2019-03-27 21:40:40.063] [info] KData is empty! [System::run]\n",
      "[2019-03-27 21:40:40.113] [info] KData is empty! [System::run]\n",
      "[2019-03-27 21:40:40.173] [info] KData is empty! [System::run]\n",
      "[2019-03-27 21:40:40.256] [info] KData is empty! [System::run]\n",
      "[2019-03-27 21:40:40.258] [info] KData is empty! [System::run]\n",
      "[2019-03-27 21:40:40.329] [info] KData is empty! [System::run]\n",
      "[2019-03-27 21:40:40.653] [info] KData is empty! [System::run]\n",
      "[2019-03-27 21:40:40.940] [info] KData is empty! [System::run]\n",
      "[2019-03-27 21:40:40.982] [info] KData is empty! [System::run]\n",
      "[2019-03-27 21:40:41.114] [info] KData is empty! [System::run]\n",
      "[2019-03-27 21:40:41.171] [info] KData is empty! [System::run]\n",
      "[2019-03-27 21:40:41.276] [info] KData is empty! [System::run]\n",
      "[2019-03-27 21:40:41.323] [info] KData is empty! [System::run]\n",
      "[2019-03-27 21:40:41.437] [info] KData is empty! [System::run]\n",
      "[2019-03-27 21:40:41.465] [info] KData is empty! [System::run]\n",
      "[2019-03-27 21:40:41.555] [info] KData is empty! [System::run]\n",
      "[2019-03-27 21:40:41.842] [info] KData is empty! [System::run]\n",
      "[2019-03-27 21:40:41.964] [info] KData is empty! [System::run]\n",
      "[2019-03-27 21:40:42.085] [info] KData is empty! [System::run]\n",
      "[2019-03-27 21:40:42.226] [info] KData is empty! [System::run]\n",
      "[2019-03-27 21:40:42.282] [info] KData is empty! [System::run]\n",
      "[2019-03-27 21:40:43.369] [info] KData is empty! [System::run]\n",
      "[2019-03-27 21:40:43.370] [info] KData is empty! [System::run]\n",
      "[2019-03-27 21:40:43.424] [info] KData is empty! [System::run]\n",
      "[2019-03-27 21:40:44.174] [info] KData is empty! [System::run]\n",
      "[2019-03-27 21:40:44.244] [info] KData is empty! [System::run]\n",
      "[2019-03-27 21:40:46.515] [info] KData is empty! [System::run]\n",
      "[2019-03-27 21:40:48.114] [info] KData is empty! [System::run]\n",
      "[2019-03-27 21:40:48.827] [info] KData is empty! [System::run]\n",
      "[2019-03-27 21:40:50.505] [info] KData is empty! [System::run]\n",
      "[2019-03-27 21:40:50.762] [info] KData is empty! [System::run]\n",
      "Wall time: 21.3 s\n"
     ]
    }
   ],
   "source": [
    "import pandas as pd\n",
    "def calTotal(blk, q):\n",
    "    per = Performance()\n",
    "    s_name = []\n",
    "    s_code = []\n",
    "    x = []\n",
    "    for stk in blk:\n",
    "        my_sys.run(stk, q)\n",
    "        per.statistics(my_tm, Datetime.now())\n",
    "        s_name.append(stk.name)\n",
    "        s_code.append(stk.market_code)\n",
    "        x.append(per.get(\"当前总资产\".encode('gb2312')))\n",
    "    return pd.DataFrame({'代码': s_code, '股票': s_name, '当前总资产': x})\n",
    "\n",
    "%time data = calTotal(blocka, q)"
   ]
  },
  {
   "cell_type": "code",
   "execution_count": 22,
   "metadata": {},
   "outputs": [
    {
     "data": {
      "text/html": [
       "<div>\n",
       "<style scoped>\n",
       "    .dataframe tbody tr th:only-of-type {\n",
       "        vertical-align: middle;\n",
       "    }\n",
       "\n",
       "    .dataframe tbody tr th {\n",
       "        vertical-align: top;\n",
       "    }\n",
       "\n",
       "    .dataframe thead th {\n",
       "        text-align: right;\n",
       "    }\n",
       "</style>\n",
       "<table border=\"1\" class=\"dataframe\">\n",
       "  <thead>\n",
       "    <tr style=\"text-align: right;\">\n",
       "      <th></th>\n",
       "      <th>代码</th>\n",
       "      <th>股票</th>\n",
       "      <th>当前总资产</th>\n",
       "    </tr>\n",
       "  </thead>\n",
       "  <tbody>\n",
       "    <tr>\n",
       "      <th>0</th>\n",
       "      <td>SZ000532</td>\n",
       "      <td>华金资本</td>\n",
       "      <td>469648.70</td>\n",
       "    </tr>\n",
       "    <tr>\n",
       "      <th>1</th>\n",
       "      <td>SH601777</td>\n",
       "      <td>力帆股份</td>\n",
       "      <td>411624.04</td>\n",
       "    </tr>\n",
       "    <tr>\n",
       "      <th>2</th>\n",
       "      <td>SZ300238</td>\n",
       "      <td>冠昊生物</td>\n",
       "      <td>572131.00</td>\n",
       "    </tr>\n",
       "    <tr>\n",
       "      <th>3</th>\n",
       "      <td>SH600781</td>\n",
       "      <td>辅仁药业</td>\n",
       "      <td>495012.25</td>\n",
       "    </tr>\n",
       "    <tr>\n",
       "      <th>4</th>\n",
       "      <td>SH600770</td>\n",
       "      <td>综艺股份</td>\n",
       "      <td>451413.04</td>\n",
       "    </tr>\n",
       "    <tr>\n",
       "      <th>5</th>\n",
       "      <td>SH600671</td>\n",
       "      <td>天目药业</td>\n",
       "      <td>408328.75</td>\n",
       "    </tr>\n",
       "    <tr>\n",
       "      <th>6</th>\n",
       "      <td>SZ002888</td>\n",
       "      <td>惠威科技</td>\n",
       "      <td>643861.50</td>\n",
       "    </tr>\n",
       "    <tr>\n",
       "      <th>7</th>\n",
       "      <td>SH600086</td>\n",
       "      <td>东方金钰</td>\n",
       "      <td>440287.42</td>\n",
       "    </tr>\n",
       "    <tr>\n",
       "      <th>8</th>\n",
       "      <td>SH603599</td>\n",
       "      <td>广信股份</td>\n",
       "      <td>412215.16</td>\n",
       "    </tr>\n",
       "    <tr>\n",
       "      <th>9</th>\n",
       "      <td>SH600363</td>\n",
       "      <td>联创光电</td>\n",
       "      <td>522211.94</td>\n",
       "    </tr>\n",
       "  </tbody>\n",
       "</table>\n",
       "</div>"
      ],
      "text/plain": [
       "         代码    股票      当前总资产\n",
       "0  SZ000532  华金资本  469648.70\n",
       "1  SH601777  力帆股份  411624.04\n",
       "2  SZ300238  冠昊生物  572131.00\n",
       "3  SH600781  辅仁药业  495012.25\n",
       "4  SH600770  综艺股份  451413.04\n",
       "5  SH600671  天目药业  408328.75\n",
       "6  SZ002888  惠威科技  643861.50\n",
       "7  SH600086  东方金钰  440287.42\n",
       "8  SH603599  广信股份  412215.16\n",
       "9  SH600363  联创光电  522211.94"
      ]
     },
     "execution_count": 22,
     "metadata": {},
     "output_type": "execute_result"
    }
   ],
   "source": [
    "#保存到CSV文件\n",
    "#data.to_csv(sm.tmpdir() + '/统计.csv')\n",
    "data[:10]"
   ]
  },
  {
   "cell_type": "code",
   "execution_count": null,
   "metadata": {},
   "outputs": [],
   "source": []
  }
 ],
 "metadata": {
  "kernelspec": {
   "display_name": "Python 3",
   "language": "python",
   "name": "python3"
  },
  "language_info": {
   "codemirror_mode": {
    "name": "ipython",
    "version": 3
   },
   "file_extension": ".py",
   "mimetype": "text/x-python",
   "name": "python",
   "nbconvert_exporter": "python",
   "pygments_lexer": "ipython3",
   "version": "3.7.1"
  }
 },
 "nbformat": 4,
 "nbformat_minor": 2
}